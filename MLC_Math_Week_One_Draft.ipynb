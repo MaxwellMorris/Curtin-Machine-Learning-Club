{
  "nbformat": 4,
  "nbformat_minor": 0,
  "metadata": {
    "kernelspec": {
      "display_name": "Python 3",
      "language": "python",
      "name": "python3"
    },
    "language_info": {
      "codemirror_mode": {
        "name": "ipython",
        "version": 3
      },
      "file_extension": ".py",
      "mimetype": "text/x-python",
      "name": "python",
      "nbconvert_exporter": "python",
      "pygments_lexer": "ipython3",
      "version": "3.6.9"
    },
    "colab": {
      "name": "MLC Math Week One Draft.ipynb",
      "provenance": [],
      "collapsed_sections": [],
      "include_colab_link": true
    }
  },
  "cells": [
    {
      "cell_type": "markdown",
      "metadata": {
        "id": "view-in-github",
        "colab_type": "text"
      },
      "source": [
        "<a href=\"https://colab.research.google.com/github/MaxwellMorris/Curtin-Machine-Learning-Club/blob/master/MLC_Math_Week_One_Draft.ipynb\" target=\"_parent\"><img src=\"https://colab.research.google.com/assets/colab-badge.svg\" alt=\"Open In Colab\"/></a>"
      ]
    },
    {
      "cell_type": "markdown",
      "metadata": {
        "id": "OyJIt02mS-6V",
        "colab_type": "text"
      },
      "source": [
        "# Week 1 MLC Math"
      ]
    },
    {
      "cell_type": "code",
      "metadata": {
        "id": "koxM_8INS-6X",
        "colab_type": "code",
        "colab": {}
      },
      "source": [
        "from IPython.display import Image\n",
        "import numpy as np\n",
        "import matplotlib.pyplot as plt\n",
        "import pandas as pd\n"
      ],
      "execution_count": 0,
      "outputs": []
    },
    {
      "cell_type": "markdown",
      "metadata": {
        "id": "OIOAf67dS-6h",
        "colab_type": "text"
      },
      "source": [
        "I'm just going to introduce to you some of the basic terminology and a little bit of math this lesson."
      ]
    },
    {
      "cell_type": "markdown",
      "metadata": {
        "id": "Qzjfmjs0S-6k",
        "colab_type": "text"
      },
      "source": [
        "### Definitions of Machine Learning\n",
        "“Machine learning is the field of study that gives computers the ability to learn without being explicitly programmed”\n",
        "\n",
        "&#150; Arthur L. Samuel, AI pioneer, 1959\n",
        "\n",
        "Well-posed Learning Problem: A computer program is said to learn from experience E with respect to some task T and some performance measure P, if its performance on T, as measured by P, improves with experience E. \n",
        "\n",
        "&#150; Tom Mitch, 1998\n",
        "\n",
        "For example playing a game of chess, E would be games played, T would be the task of playing chess and P could be winrate, probability of winning."
      ]
    },
    {
      "cell_type": "code",
      "metadata": {
        "id": "FAexSDy3S-6m",
        "colab_type": "code",
        "outputId": "0370b108-1028-473b-d12a-b75778a715d5",
        "colab": {
          "base_uri": "https://localhost:8080/",
          "height": 34
        }
      },
      "source": [
        "Image(\"Machine_Learning_vs_Classical.png\")"
      ],
      "execution_count": 276,
      "outputs": [
        {
          "output_type": "execute_result",
          "data": {
            "image/png": "Machine_Learning_vs_Classical.png",
            "text/plain": [
              "<IPython.core.display.Image object>"
            ]
          },
          "metadata": {
            "tags": []
          },
          "execution_count": 276
        }
      ]
    },
    {
      "cell_type": "markdown",
      "metadata": {
        "id": "KnKDAmuyS-6t",
        "colab_type": "text"
      },
      "source": [
        "The goal in machine learning is to have the computer do the hard work of making good predictions by creating a model like a linear model or a neural network as creating a model."
      ]
    },
    {
      "cell_type": "markdown",
      "metadata": {
        "id": "X9DYXWqNS-6u",
        "colab_type": "text"
      },
      "source": [
        "## Supervised Learning vs Unsupervised Learning\n",
        "The distinction is indicated by what kind of **dataset** you are working with. <br>\n",
        "### Definition of supervised learning:\n",
        "In supervised learning the dataset has previous data that also contains the solution a classic example is housing prices. e.g. a dataset has house _features_ like number of bathrooms, size of garage and square meters and the _target variable_ we are trying to predict the expected house value.\n",
        "i.e. \"The right answers are given in the dataset\".\n",
        "There are two different types of supervised algorithms:\n",
        "\n",
        "**Regression**: your model is a continuous function and outputs a number e.g. house prices\n",
        "\n",
        "**Classification**: your model outputs a discrete value. e.g. whether or not you are likely to pass/fail a test\n",
        "### Definition of unsupervised learning:\n",
        "Unsupervised learning is used when we don't know what the results should look like. It is useful in helping find structure in data. Unsupervised datasets don't contain the result we are looking for. Good examples are:\n",
        "\n",
        "&#150; Twitter data you will find certain users have their own social circles by looking at topics that they talk about  \n",
        "\n",
        "&#150; Social networking\n",
        "\n",
        "&#150; Analysing markets\n",
        "\n"
      ]
    },
    {
      "cell_type": "markdown",
      "metadata": {
        "id": "EnLwgM4YS-6x",
        "colab_type": "text"
      },
      "source": [
        "# Single Variable Linear Regression\n",
        "\n",
        "The first learning algorithm we are going to introduce is linear regression. Quite simply it is fiting a line to some data, as the name indicates this is a **regression** problem which means our model generates a continuous function (a line)."
      ]
    },
    {
      "cell_type": "markdown",
      "metadata": {
        "id": "lw9PgshXS-6x",
        "colab_type": "text"
      },
      "source": [
        "### Creating some training data\n",
        "Were going to make some data so we don't have to import any and can get right into it. If your having problem try running the block at the top where I import some packages."
      ]
    },
    {
      "cell_type": "code",
      "metadata": {
        "id": "TPxOAplcS-6y",
        "colab_type": "code",
        "outputId": "08c1bbc9-8b0c-4a76-f6ff-72546f5ef198",
        "colab": {
          "base_uri": "https://localhost:8080/",
          "height": 302
        }
      },
      "source": [
        "# Linspace is a numpy function for creating equally space points so 100 points between 1 and 100 \n",
        "# It's like like start stop step but is how many between start and stop\n",
        "# np.newaxis just adds a dimension\n",
        "data_x = np.linspace(1, 10, 100)[:, np.newaxis]\n",
        "\n",
        "# Here we are simulating some real world data by having a function that'll have be sort of linear\n",
        "# and will be linear\n",
        "data_y = np.sin(0.15*data_x) + 0.01*np.power(data_x,1.5)+0.1*np.random.randn(100, 1)\n",
        "\n",
        "data_x = data_x/np.max(data_x)   # This is normalisation and just makes it run better\n",
        "\n",
        "print(data_y.shape)\n",
        "print(data_x.shape)\n",
        "\n",
        "plt.plot(data_x, data_y, 'ro')\n",
        "plt.show()"
      ],
      "execution_count": 277,
      "outputs": [
        {
          "output_type": "stream",
          "text": [
            "(100, 1)\n",
            "(100, 1)\n"
          ],
          "name": "stdout"
        },
        {
          "output_type": "display_data",
          "data": {
            "image/png": "[encoded data removed]",
            "text/plain": [
              "<Figure size 432x288 with 1 Axes>"
            ]
          },
          "metadata": {
            "tags": []
          }
        }
      ]
    },
    {
      "cell_type": "markdown",
      "metadata": {
        "id": "5Xlku_oQDahI",
        "colab_type": "text"
      },
      "source": [
        "## Current Goal: We Want to Create a Linear Model of The Data\n",
        "We want to fit a line to the data.\n",
        "\n",
        "Below I eyeball creating a linear model for this data a line that goes between $(0,0.1)$  and $(10,1.55)$. \n",
        "\n",
        "Doing some basic algerbra I determine that my hypothosis is \n",
        "\n",
        "$y= (\\frac{1.55-0.1}{1-0}) x+0.1$\n",
        "\n",
        "But how could we know that this is the best line we can fit? And how could we get a computer to do it?"
      ]
    },
    {
      "cell_type": "code",
      "metadata": {
        "id": "5AfibklGdVOF",
        "colab_type": "code",
        "outputId": "fb936b07-559a-4705-d869-a6033464395d",
        "colab": {
          "base_uri": "https://localhost:8080/",
          "height": 266
        }
      },
      "source": [
        "# Eyeballing the plot\n",
        "plt.plot([0,1], [0.1,1.55], '-k')\n",
        "plt.plot(data_x, data_y, \"bo\")\n",
        "plt.show()"
      ],
      "execution_count": 278,
      "outputs": [
        {
          "output_type": "display_data",
          "data": {
            "image/png": "[encoded data removed]",
            "text/plain": [
              "<Figure size 432x288 with 1 Axes>"
            ]
          },
          "metadata": {
            "tags": []
          }
        }
      ]
    },
    {
      "cell_type": "code",
      "metadata": {
        "id": "1kMVNO6jS-64",
        "colab_type": "code",
        "colab": {}
      },
      "source": [
        "# This code is just to make a table of some of the data\n",
        "\n",
        "# Makes numpy array that is [data_x|data_y]\n",
        "\n",
        "data = np.vstack((data_x.T, data_y.T)).T   \n",
        "df = pd.DataFrame(data, columns=['x','y'])"
      ],
      "execution_count": 0,
      "outputs": []
    },
    {
      "cell_type": "markdown",
      "metadata": {
        "id": "4uwWSHXt8HC5",
        "colab_type": "text"
      },
      "source": [
        "## Terminology Used With Data\n",
        "\n",
        "$x^{(i)}$ is an \"input\" variable and $y^{(i)}$ is a \"output\" or \"target\" variable\n",
        "\n",
        "A matrix containing all the input variables would be denoted by $X$ likewise $Y$ denotes a matrix of target variables.\n",
        "\n",
        "\n",
        "A training example would be $(x^{(i)},y^{(i)}).$\n",
        "\n",
        "e.g. $(x^{(2)},y^{(2)})=(1.181818, 0.211290)$\n",
        "\n",
        "Note that $x^{(i)}$ isn't read as x to the power of but rather the i'th element and is the index not an exponential."
      ]
    },
    {
      "cell_type": "markdown",
      "metadata": {
        "id": "MEGrtxyf-HHb",
        "colab_type": "text"
      },
      "source": [
        "## Regression Modelling Representation\n",
        "Our goal is to generate a function $h$ such that $h:X \\rightarrow Y$ which can also be read as $h(X)=Y$.\n",
        "Where $h$ is the hypothosis generated by our learning algorithm.\n",
        "\n",
        "The data is split into a training and test set.\n",
        "\n",
        "The training data is used to used in training the algorithm and the test set is used in testing the algorithm to find the accuracy.\n",
        "\n",
        "A typical split of the data is 80%/20% training/test respectively.\n",
        "\n"
      ]
    },
    {
      "cell_type": "code",
      "metadata": {
        "id": "QnsyuoRI6ICe",
        "colab_type": "code",
        "colab": {}
      },
      "source": [
        ""
      ],
      "execution_count": 0,
      "outputs": []
    },
    {
      "cell_type": "markdown",
      "metadata": {
        "id": "oBg-SPP0Cth3",
        "colab_type": "text"
      },
      "source": [
        "## Making a Linear Hypothosis\n",
        "\n",
        "As we know we are just making a linear hypothosis we know that it will look like this:\n",
        "\n",
        "$y=mx+c$\n",
        "\n",
        "In the machine learning field we'd write the hypothosis as followed:\n",
        "\n",
        "$h_\\theta(x)=\\theta_0+\\theta_{1}x$\n",
        "\n",
        "$h_\\theta(x)$ should be read as our hypothosis defined by parameters $\\theta_{(i)}$\n",
        "\n",
        "Our learning algorithm can only change the parameters ($\\theta$) in making it's hypothosis. \n",
        "\n",
        "This is just the terminology used that can be used in almost all learning algorithms so get used to it.\n",
        "\n",
        "### How Do We Choose the Parameters?\n",
        "We know we want to choose parameters so that our hypothosis values are as close as possible to our training values but for all values in our training set.\n",
        "\n",
        "So expressing this mathematically \n",
        "\n",
        "$\\underset{\\theta_0,\\ \\theta_1}{\\operatorname{min}}(h_\\theta(x^{(i)})-y^{(i})$\n",
        "\n",
        "This expression is incomplete as we want to minimise the total error for all training examples so\n",
        "\n",
        "$\\underset{\\theta_0,\\ \\theta_1}{\\operatorname{min}} \\sum_{i=0}^{m}(h_\\theta(x^{(i)})-y^{(i)})^2$\n",
        "\n",
        "Where $m$ is the total number of training examples.\n",
        "Commonly writen as:\n",
        "\n",
        "$\\underset{\\theta_0,\\ \\theta_1}{\\operatorname{min}}\\frac{1}{2m} \\sum_{i=0}^{m}(h_\\theta(x^{(i)})-y^{(i)})^2$\n",
        "\n",
        "The $\\frac{1}{2m}$ this constant is to make the math easier the $1/m$ comes from getting the average error and the $1/2$ is added as it removes a constant and makes the math a little be easier (hint: it has something to do with taking the derivative of the cost function)\n",
        "\n",
        "By convention cost functions usually have the symbol $J$ so:\n",
        "\n",
        "$J(\\theta_0, \\theta_1)=\\frac{1}{2m}\\sum_{i=0}^{m}(h_\\theta(x^{(i)})-y^{(i)})^2$\n",
        "\n",
        "Note: This isn't the only cost function for linear regression you could also use the least absolute deviations but least squares is more commonly used as it penalises the algorithm more if there is a point really far away and the maths is easier.\n"
      ]
    },
    {
      "cell_type": "markdown",
      "metadata": {
        "id": "iDOYj0AQQ8ao",
        "colab_type": "text"
      },
      "source": [
        "## Minimising the Cost Function (Gradient Descent)\n",
        "Gradient descent is used everywhere in machine learning.\n",
        "\n",
        "We want $\\underset{\\theta_0,\\ \\theta_1}{\\operatorname{min}}J(\\theta_0, \\theta_1)$\n",
        "\n",
        "To find this we are going to start with some values for the parameters and then we are going to modify the parameters untill we end up at the minimum for $J(\\theta_0, \\theta_1)$.\n",
        "\n",
        "Imagine we knew all the values for $J(\\theta_0, \\theta_1)$"
      ]
    },
    {
      "cell_type": "code",
      "metadata": {
        "id": "KWyAZ-qmQ5S6",
        "colab_type": "code",
        "outputId": "aba886f0-8277-4b82-bf4b-7afced44a567",
        "colab": {
          "base_uri": "https://localhost:8080/",
          "height": 357
        }
      },
      "source": [
        "## This needs to be cleaned up\n",
        "\n",
        "from mpl_toolkits.mplot3d import axes3d\n",
        "\n",
        "%matplotlib inline\n",
        "\n",
        "\n",
        "x = np.arange(-5,5,0.1)\n",
        "y = np.arange(-5,5,0.1)\n",
        "X,Y = np.meshgrid(x,y)\n",
        "Z = -X**2 +Y+2*X*(Y**3)+X**4+2*(X)*(Y)-Y**3\n",
        "\n",
        "fig = plt.figure(figsize=(6,6))\n",
        "ax = fig.add_subplot(111, projection='3d')\n",
        "\n",
        "# Plot a 3D surface\n",
        "ax.plot_surface(X, Y, Z)\n",
        "\n",
        "ax.set_xlabel('Theta_0 Values')\n",
        "ax.set_ylabel('Theta_1 Values')\n",
        "ax.set_zlabel('Cost Function Values')\n",
        "plt.show()\n"
      ],
      "execution_count": 280,
      "outputs": [
        {
          "output_type": "display_data",
          "data": {
            "image/png": "[encoded data removed]",
            "text/plain": [
              "<Figure size 432x432 with 1 Axes>"
            ]
          },
          "metadata": {
            "tags": []
          }
        }
      ]
    },
    {
      "cell_type": "markdown",
      "metadata": {
        "id": "PvjFFXWcmhvl",
        "colab_type": "text"
      },
      "source": [
        "We want to change our theta values until we minimise the cost function by going down the hill and converging on the smallest point.\n",
        "\n",
        "One issue is that you can converge at a local minimum instead of the global minimum.\n",
        "\n",
        "In gradient descent you look around the point you are at on the surface and then your travel down the hill.\n",
        "\n",
        "Writing this out mathematically:\n",
        "\n",
        "Repeat until $\\frac{\\partial }{\\partial \\theta_j}J(\\theta_0, \\theta_1) = 0$\n",
        "\n",
        "{\n",
        "$\\theta_j := \\theta_j -\\alpha \\frac{\\partial }{\\partial \\theta_j}J(\\theta_0, \\theta_1)$}\n",
        "\n",
        "$\\alpha$ is the learning rate it is the size of the steps taken in the direction of the slope $\\frac{\\partial }{\\partial \\theta_j}J(\\theta_0, \\theta_1)$\n",
        "\n",
        "Note that you update all the parameters at once then reassign the theta values.\n"
      ]
    },
    {
      "cell_type": "code",
      "metadata": {
        "id": "3AHWGUNlnrT8",
        "colab_type": "code",
        "colab": {}
      },
      "source": [
        ""
      ],
      "execution_count": 0,
      "outputs": []
    },
    {
      "cell_type": "markdown",
      "metadata": {
        "id": "ZVI2HAs9rP07",
        "colab_type": "text"
      },
      "source": [
        "## Implementing Gradient Descent In Linear Regression \n",
        "Recalling that:\n",
        "\n",
        "$\\theta_j := \\theta_j -\\alpha \\frac{\\partial }{\\partial \\theta_j}J(\\theta_0, \\theta_1)$}\n",
        "\n",
        "and for linear regression\n",
        "\n",
        "$J(\\theta_0, \\theta_1)=\\sum_{i=0}^{m}(h_\\theta(x^{(i)})-y^{(i)})^2$\n",
        "\n",
        "We substitute $J(\\theta_0, \\theta_1)$ for linear regression into gradient descent to get :\n",
        "\n",
        "$\\theta_j := \\theta_j -\\alpha \\frac{\\partial }{\\partial \\theta_j}(\\frac{1}{2m}\\sum_{i=0}^{m}(h_\\theta(x^{(i)})-y^{(i)})^2)$\n",
        "\n",
        "Focus on simplifying $\\frac{\\partial }{\\partial \\theta_j}(\\frac{1}{2m}\\sum_{i=0}^{m}(h_\\theta(x^{(i)})-y^{(i)})^2)$\n",
        "\n",
        "We find by the substituting  $h_\\theta(x)=\\theta_0+\\theta_1x^{(i)}$\n",
        "\n",
        "$\\frac{\\partial }{\\partial \\theta_j}(\\frac{1}{2m}\\sum_{i=0}^{m}(\\theta_0+\\theta_1x^{(i)}-y^{(i)})^2)$ \n",
        "\n",
        "For j=0 and by the chain rule.\n",
        "\n",
        "$\\frac{\\partial }{\\partial \\theta_0}(\\frac{1}{2m}\\sum_{i=0}^{m}(\\theta_0+\\theta_1x^{(i)}-y^{(i)})^2) = \\frac{\\partial }{\\partial \\theta_0}(\\theta_0)*2*\\frac{1}{2m}\\sum_{i=0}^{m}(\\theta_0+\\theta_1x^{(i)}-y^{(i)}))$\n",
        "\n",
        "$= \\frac{1}{m}\\sum_{i=0}^{m}(\\theta_0+\\theta_1x^{(i)}-y^{(i)}))$\n",
        "\n",
        "$= \\frac{1}{m}\\sum_{i=0}^{m}(h_\\theta(x^{(i)})-y^{(i)}))$\n",
        "\n",
        "\n",
        "For j=1 and by the chain rule.\n",
        "\n",
        "$\\frac{\\partial }{\\partial \\theta_1}(\\frac{1}{2m}\\sum_{i=0}^{m}(\\theta_0+\\theta_1x^{(i)}-y^{(i)})^2) = \\frac{\\partial }{\\partial \\theta_1}(\\theta_1)*2*\\frac{1}{2m}\\sum_{i=0}^{m}(\\theta_0+\\theta_1x^{(i)}-y^{(i)}))$\n",
        "\n",
        "$= \\frac{1}{m}\\sum_{i=0}^{m}(\\theta_0+\\theta_1x^{(i)}-y^{(i)}))*x^{(i)}$\n",
        "\n",
        "$= \\frac{1}{m}\\sum_{i=0}^{m}(h_\\theta(x^{(i)})-y^{(i)}))*x^{(i)}$\n"
      ]
    },
    {
      "cell_type": "code",
      "metadata": {
        "id": "6iWbwTLAxbk9",
        "colab_type": "code",
        "colab": {}
      },
      "source": [
        ""
      ],
      "execution_count": 0,
      "outputs": []
    },
    {
      "cell_type": "markdown",
      "metadata": {
        "id": "TmnqLtPbxcti",
        "colab_type": "text"
      },
      "source": [
        "# Gradient Descent Algorithm for Linear Regression\n",
        "\n",
        "Repeat until $\\frac{\\partial }{\\partial \\theta_j}J(\\theta_0, \\theta_1) = 0$\n",
        "\n",
        "{\n",
        "\n",
        "$\\theta_0 := \\theta_0 -\\alpha \\frac{1}{m}\\sum_{i=0}^{m}(h_\\theta(x^{(i)})-y^{(i)}))$\n",
        "\n",
        "$\\theta_1 := \\theta_1 -\\alpha \\frac{1}{m}\\sum_{i=0}^{m}(h_\\theta(x^{(i)})-y^{(i)}))*x^{(i)}$\n",
        "\n",
        "}\n",
        "\n",
        "Note: In linear regression there is only one critical point being the local minimum so you don't have to worry about minimising the cost function to a value that isn't the local maximum.\n",
        "\n"
      ]
    },
    {
      "cell_type": "markdown",
      "metadata": {
        "id": "uA2r2NF6lC1n",
        "colab_type": "text"
      },
      "source": [
        "### Implementing Linear Regression in Python\n",
        "Noting that the cost function is:\n",
        "\n",
        "$J(\\theta_0, \\theta_1)=\\frac{1}{2m}\\sum_{i=0}^{m}(h_\\theta(x^{(i)})-y^{(i)})^2$"
      ]
    },
    {
      "cell_type": "code",
      "metadata": {
        "id": "vxk2vgB6Xdzu",
        "colab_type": "code",
        "colab": {}
      },
      "source": [
        "def costFunction(X, y, theta):\n",
        "    \"\"\" \n",
        "    By taking a vector of features X, a vector of target variables y\n",
        "    and parameters theta determine the least squares error of these parameters\n",
        "    \"\"\"\n",
        "    m = len(y)\n",
        "    hypothosis = X.dot(theta)\n",
        "    error_squared = (hypothosis - y)**2\n",
        "    J = 1/(2*m)*np.sum(error_squared)\n",
        "    return J\n"
      ],
      "execution_count": 0,
      "outputs": []
    },
    {
      "cell_type": "markdown",
      "metadata": {
        "id": "TEJadX4OZpwZ",
        "colab_type": "text"
      },
      "source": [
        "To make sure that the $\\theta_0$ parameters is satified we have to add a bias column"
      ]
    },
    {
      "cell_type": "code",
      "metadata": {
        "id": "HhURwfthZX9U",
        "colab_type": "code",
        "colab": {}
      },
      "source": [
        "# Add a coloumn \"bias terms\" of ones to the front of the dataframe\n",
        "df.insert(0, 'bias term', 1)"
      ],
      "execution_count": 0,
      "outputs": []
    },
    {
      "cell_type": "code",
      "metadata": {
        "id": "pWmmQmzHb0N8",
        "colab_type": "code",
        "outputId": "04df4ab2-3aa0-4d82-fa34-61ebd40e6e09",
        "colab": {
          "base_uri": "https://localhost:8080/",
          "height": 1000
        }
      },
      "source": [
        "df.to_numpy()"
      ],
      "execution_count": 283,
      "outputs": [
        {
          "output_type": "execute_result",
          "data": {
            "text/plain": [
              "array([[1.        , 0.1       , 0.19777165],\n",
              "       [1.        , 0.10909091, 0.30972139],\n",
              "       [1.        , 0.11818182, 0.31069445],\n",
              "       [1.        , 0.12727273, 0.10063942],\n",
              "       [1.        , 0.13636364, 0.28722145],\n",
              "       [1.        , 0.14545455, 0.33438548],\n",
              "       [1.        , 0.15454545, 0.13758608],\n",
              "       [1.        , 0.16363636, 0.18423267],\n",
              "       [1.        , 0.17272727, 0.20339994],\n",
              "       [1.        , 0.18181818, 0.34028838],\n",
              "       [1.        , 0.19090909, 0.27245139],\n",
              "       [1.        , 0.2       , 0.28624368],\n",
              "       [1.        , 0.20909091, 0.44245056],\n",
              "       [1.        , 0.21818182, 0.34020938],\n",
              "       [1.        , 0.22727273, 0.42404323],\n",
              "       [1.        , 0.23636364, 0.2625009 ],\n",
              "       [1.        , 0.24545455, 0.38718416],\n",
              "       [1.        , 0.25454545, 0.50841808],\n",
              "       [1.        , 0.26363636, 0.51136029],\n",
              "       [1.        , 0.27272727, 0.36651891],\n",
              "       [1.        , 0.28181818, 0.48017577],\n",
              "       [1.        , 0.29090909, 0.44219759],\n",
              "       [1.        , 0.3       , 0.57877209],\n",
              "       [1.        , 0.30909091, 0.55441878],\n",
              "       [1.        , 0.31818182, 0.73115042],\n",
              "       [1.        , 0.32727273, 0.47440873],\n",
              "       [1.        , 0.33636364, 0.60107604],\n",
              "       [1.        , 0.34545455, 0.55586463],\n",
              "       [1.        , 0.35454545, 0.45067671],\n",
              "       [1.        , 0.36363636, 0.68258545],\n",
              "       [1.        , 0.37272727, 0.53955141],\n",
              "       [1.        , 0.38181818, 0.61764946],\n",
              "       [1.        , 0.39090909, 0.51992455],\n",
              "       [1.        , 0.4       , 0.64811874],\n",
              "       [1.        , 0.40909091, 0.80708877],\n",
              "       [1.        , 0.41818182, 0.55672643],\n",
              "       [1.        , 0.42727273, 0.64357517],\n",
              "       [1.        , 0.43636364, 0.69909218],\n",
              "       [1.        , 0.44545455, 0.72528477],\n",
              "       [1.        , 0.45454545, 0.842163  ],\n",
              "       [1.        , 0.46363636, 0.74629634],\n",
              "       [1.        , 0.47272727, 0.72101645],\n",
              "       [1.        , 0.48181818, 0.64661137],\n",
              "       [1.        , 0.49090909, 0.72955808],\n",
              "       [1.        , 0.5       , 0.7399948 ],\n",
              "       [1.        , 0.50909091, 0.87480346],\n",
              "       [1.        , 0.51818182, 0.82684418],\n",
              "       [1.        , 0.52727273, 0.67381995],\n",
              "       [1.        , 0.53636364, 1.01205716],\n",
              "       [1.        , 0.54545455, 0.91564774],\n",
              "       [1.        , 0.55454545, 0.88982123],\n",
              "       [1.        , 0.56363636, 0.92153491],\n",
              "       [1.        , 0.57272727, 0.96807339],\n",
              "       [1.        , 0.58181818, 1.02652653],\n",
              "       [1.        , 0.59090909, 0.7464161 ],\n",
              "       [1.        , 0.6       , 0.98650965],\n",
              "       [1.        , 0.60909091, 0.780783  ],\n",
              "       [1.        , 0.61818182, 1.0468714 ],\n",
              "       [1.        , 0.62727273, 0.95006961],\n",
              "       [1.        , 0.63636364, 0.80515493],\n",
              "       [1.        , 0.64545455, 0.95476646],\n",
              "       [1.        , 0.65454545, 1.10262749],\n",
              "       [1.        , 0.66363636, 1.02553984],\n",
              "       [1.        , 0.67272727, 0.98386228],\n",
              "       [1.        , 0.68181818, 1.07346135],\n",
              "       [1.        , 0.69090909, 0.94084204],\n",
              "       [1.        , 0.7       , 1.09144251],\n",
              "       [1.        , 0.70909091, 1.09346833],\n",
              "       [1.        , 0.71818182, 1.01840253],\n",
              "       [1.        , 0.72727273, 1.14968709],\n",
              "       [1.        , 0.73636364, 1.1167923 ],\n",
              "       [1.        , 0.74545455, 1.06632455],\n",
              "       [1.        , 0.75454545, 1.14002899],\n",
              "       [1.        , 0.76363636, 1.25115712],\n",
              "       [1.        , 0.77272727, 1.12142009],\n",
              "       [1.        , 0.78181818, 1.12737625],\n",
              "       [1.        , 0.79090909, 1.0061211 ],\n",
              "       [1.        , 0.8       , 1.30044256],\n",
              "       [1.        , 0.80909091, 1.16714296],\n",
              "       [1.        , 0.81818182, 1.0468376 ],\n",
              "       [1.        , 0.82727273, 1.17782509],\n",
              "       [1.        , 0.83636364, 1.195078  ],\n",
              "       [1.        , 0.84545455, 1.12726133],\n",
              "       [1.        , 0.85454545, 1.24185805],\n",
              "       [1.        , 0.86363636, 1.23401865],\n",
              "       [1.        , 0.87272727, 1.34984712],\n",
              "       [1.        , 0.88181818, 1.3096768 ],\n",
              "       [1.        , 0.89090909, 1.37550497],\n",
              "       [1.        , 0.9       , 1.19703815],\n",
              "       [1.        , 0.90909091, 1.39765352],\n",
              "       [1.        , 0.91818182, 1.32090864],\n",
              "       [1.        , 0.92727273, 1.38191305],\n",
              "       [1.        , 0.93636364, 1.06605651],\n",
              "       [1.        , 0.94545455, 1.15380574],\n",
              "       [1.        , 0.95454545, 1.26992057],\n",
              "       [1.        , 0.96363636, 1.23065112],\n",
              "       [1.        , 0.97272727, 1.32401007],\n",
              "       [1.        , 0.98181818, 1.24261267],\n",
              "       [1.        , 0.99090909, 1.32230729],\n",
              "       [1.        , 1.        , 1.45674305]])"
            ]
          },
          "metadata": {
            "tags": []
          },
          "execution_count": 283
        }
      ]
    },
    {
      "cell_type": "code",
      "metadata": {
        "id": "i1wDVLuyehX4",
        "colab_type": "code",
        "outputId": "b4550626-330e-4774-ea3e-bb44ba39ec93",
        "colab": {
          "base_uri": "https://localhost:8080/",
          "height": 35
        }
      },
      "source": [
        "df_n = df.to_numpy()\n",
        "m= len(df_n)\n",
        "print(m)\n",
        "X = np.append(df_n[:,0].reshape(m,1), df_n[:,1].reshape(m,1), axis=1)\n",
        "Y = df_n[:,2].reshape(m,1) \n",
        "\n",
        "# Initially we'll make the theta values zero\n",
        "theta = np.zeros((2,1))\n"
      ],
      "execution_count": 284,
      "outputs": [
        {
          "output_type": "stream",
          "text": [
            "100\n"
          ],
          "name": "stdout"
        }
      ]
    },
    {
      "cell_type": "code",
      "metadata": {
        "id": "XtLUvkr5gMo_",
        "colab_type": "code",
        "outputId": "614562dd-74a2-416f-e570-a63897270602",
        "colab": {
          "base_uri": "https://localhost:8080/",
          "height": 35
        }
      },
      "source": [
        "costFunction(X, Y, theta)"
      ],
      "execution_count": 285,
      "outputs": [
        {
          "output_type": "execute_result",
          "data": {
            "text/plain": [
              "0.404048190185076"
            ]
          },
          "metadata": {
            "tags": []
          },
          "execution_count": 285
        }
      ]
    },
    {
      "cell_type": "markdown",
      "metadata": {
        "id": "ti5Ltd2Qk9iD",
        "colab_type": "text"
      },
      "source": [
        "## Recall\n",
        "# Gradient Descent Algorithm for Linear Regression\n",
        "\n",
        "Repeat until $\\frac{\\partial }{\\partial \\theta_j}J(\\theta_0, \\theta_1) = 0$\n",
        "\n",
        "{\n",
        "\n",
        "$\\theta_0 := \\theta_0 -\\alpha \\frac{1}{m}\\sum_{i=0}^{m}(h_\\theta(x^{(i)})-y^{(i)}))$\n",
        "\n",
        "$\\theta_1 := \\theta_1 -\\alpha \\frac{1}{m}\\sum_{i=0}^{m}(h_\\theta(x^{(i)})-y^{(i)}))*x^{(i)}$\n",
        "\n",
        "}\n"
      ]
    },
    {
      "cell_type": "code",
      "metadata": {
        "id": "hzNzewX-kfEo",
        "colab_type": "code",
        "colab": {}
      },
      "source": [
        "def gradientDescent(theta, X, Y, alpha, num_Iterations):\n",
        "    \"\"\"\n",
        "    Take the seperated X and Y from the training set the training step size alpha\n",
        "    and the number of gradient descent steps\n",
        "    \"\"\"\n",
        "    m = len(y)\n",
        "    J_values = []\n",
        "\n",
        "    for iter in range(num_Iterations):\n",
        "      predicted_y_values = X.dot(theta)\n",
        "      #print(np.shape(predicted_y_values), predicted_y_values)\n",
        "      #print(predicted_y_values, np.shape(predicted_y_values))\n",
        "      sum_of_error = np.matmul((predicted_y_values.transpose() - y), X).transpose()\n",
        "      #print(\"Shape of sum error: \", np.shape(sum_of_error))\n",
        "      #print(\"Theta is: \", theta, np.shape(theta))\n",
        "      \n",
        "      theta_change = alpha*(1/m)*sum_of_error\n",
        "      #print(\"Theta change values: \", theta_change)\n",
        "      theta += -theta_change\n",
        "      J_values.append(costFunction(X, y, theta))\n",
        "    \n",
        "    return theta"
      ],
      "execution_count": 0,
      "outputs": []
    },
    {
      "cell_type": "code",
      "metadata": {
        "id": "vnnLckgkohOr",
        "colab_type": "code",
        "colab": {}
      },
      "source": [
        "## Runnning the code\n",
        "\n",
        "theta = gradientDescent(theta, X, Y, 0.005, 1000)\n",
        "\n"
      ],
      "execution_count": 0,
      "outputs": []
    },
    {
      "cell_type": "code",
      "metadata": {
        "id": "-U486nyHozze",
        "colab_type": "code",
        "colab": {
          "base_uri": "https://localhost:8080/",
          "height": 339
        },
        "outputId": "f50be16e-e259-40e1-9329-19ec62d9f7f2"
      },
      "source": [
        "# Eyeballing the plot\n",
        "print(theta)\n",
        "print(np.shape(theta))\n",
        "x = np.linspace(0,1,100)[:, np.newaxis]\n",
        "print(np.shape(x))\n",
        "y = np.dot(x, theta.transpose())\n",
        "\n",
        "y = np.sum(y, axis=1)\n",
        "\n",
        "#print(y)\n",
        "plt.plot(x, y, '-r')\n",
        "plt.plot([0,1], [0.1,1.55], '-k')\n",
        "plt.plot(data_x, data_y, \"bo\")\n",
        "plt.show()"
      ],
      "execution_count": 288,
      "outputs": [
        {
          "output_type": "stream",
          "text": [
            "[[-1.23859574]\n",
            " [ 2.62184527]]\n",
            "(2, 1)\n",
            "(100, 1)\n"
          ],
          "name": "stdout"
        },
        {
          "output_type": "display_data",
          "data": {
            "image/png": "[encoded data removed]",
            "text/plain": [
              "<Figure size 432x288 with 1 Axes>"
            ]
          },
          "metadata": {
            "tags": []
          }
        }
      ]
    },
    {
      "cell_type": "code",
      "metadata": {
        "id": "rAsgAA2CrIMC",
        "colab_type": "code",
        "colab": {}
      },
      "source": [
        ""
      ],
      "execution_count": 0,
      "outputs": []
    }
  ]
}